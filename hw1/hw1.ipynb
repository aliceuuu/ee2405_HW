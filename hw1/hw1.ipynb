{
 "cells": [
  {
   "cell_type": "code",
   "execution_count": 39,
   "metadata": {},
   "outputs": [
    {
     "name": "stdout",
     "output_type": "stream",
     "text": [
      "[['C0A880', 2.0], [['C0F9A0'], 1.6], [['C0G640'], 3.5], [['C0R190'], 1.9], [['C0X260'], 3.1]]\n"
     ]
    }
   ],
   "source": [
    "# library\n",
    "import csv\n",
    "\n",
    "# 開啟 CSV 檔案\n",
    "with open('105031148.csv', newline='') as csvFile:\n",
    "\n",
    "    # 3.轉成一個 dictionary, 讀取 CSV 檔內容，將每一列轉成字典\n",
    "    rows = csv.DictReader(csvFile)\n",
    "    \n",
    "    \n",
    "\n",
    "    max=[-1.0, -1.0, -1.0, -1.0, -1.0]\n",
    "    min=[100.0, 100.0, 100.0, 100.0, 100.0]\n",
    "    # 迴圈輸出 指定欄位\n",
    "    for row in rows:\n",
    "        # print(row['station_id'],row['WDSD'])\n",
    "        if row['station_id'] == 'C0A880':\n",
    "            if float(row['WDSD']) > max[0]:\n",
    "                max[0] = float(row['WDSD'])\n",
    "            if float(row['WDSD']) < min[0] and float(row['WDSD'])>=0:\n",
    "                min[0] = float(row['WDSD'])\n",
    "        if row['station_id'] == 'C0F9A0':\n",
    "            #print(row['station_id'],row['WDSD'])\n",
    "            if float(row['WDSD']) > max[1]:\n",
    "                max[1] = float(row['WDSD'])\n",
    "            if float(row['WDSD']) < min[1] and float(row['WDSD'])>=0:\n",
    "                min[1] = float(row['WDSD'])    \n",
    "        if row['station_id'] == 'C0G640':\n",
    "            #print(row['station_id'],row['WDSD'])\n",
    "            if float(row['WDSD']) > max[2]:\n",
    "                max[2] = float(row['WDSD'])\n",
    "            if float(row['WDSD']) < min[2] and float(row['WDSD'])>=0:\n",
    "                min[2] = float(row['WDSD'])                \n",
    "        if row['station_id'] == 'C0R190':\n",
    "            #print(row['station_id'],row['WDSD'])\n",
    "            if float(row['WDSD']) > max[3]:\n",
    "                max[3] = float(row['WDSD'])\n",
    "            if float(row['WDSD']) < min[3] and float(row['WDSD'])>=0:\n",
    "                min[3] = float(row['WDSD'])\n",
    "        if row['station_id'] == 'C0X260':\n",
    "            #print(row['station_id'],row['WDSD'])\n",
    "            if float(row['WDSD']) > max[4]:\n",
    "                max[4] = float(row['WDSD'])\n",
    "            if float(row['WDSD']) < min[4] and float(row['WDSD'])>=0:\n",
    "                min[4] = float(row['WDSD'])   \n",
    "                \n",
    "    rng=[]\n",
    "    i=0\n",
    "    while i<5:\n",
    "        if max[i]>0 and min[i]<100 and max[i]!=min[i]:\n",
    "            rng.append(round(max[i]-min[i], 1))\n",
    "        else:\n",
    "            rng.append('None')\n",
    "        #print(\"rng:\",rng[i])\n",
    "        i+=1\n",
    "    \n",
    "    a=[['C0A880', rng[0]], [['C0F9A0'], rng[1]], [['C0G640'], rng[2]], [['C0R190'], rng[3]], [['C0X260'], rng[4]]]\n",
    "    print(a)\n",
    "\n",
    "\n"
   ]
  },
  {
   "cell_type": "code",
   "execution_count": null,
   "metadata": {},
   "outputs": [],
   "source": []
  },
  {
   "cell_type": "code",
   "execution_count": null,
   "metadata": {},
   "outputs": [],
   "source": []
  }
 ],
 "metadata": {
  "kernelspec": {
   "display_name": "Python 3",
   "language": "python",
   "name": "python3"
  },
  "language_info": {
   "codemirror_mode": {
    "name": "ipython",
    "version": 3
   },
   "file_extension": ".py",
   "mimetype": "text/x-python",
   "name": "python",
   "nbconvert_exporter": "python",
   "pygments_lexer": "ipython3",
   "version": "3.7.4"
  }
 },
 "nbformat": 4,
 "nbformat_minor": 2
}
