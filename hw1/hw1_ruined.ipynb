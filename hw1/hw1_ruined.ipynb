{
 "cells": [
  {
   "cell_type": "code",
   "execution_count": 6,
   "metadata": {},
   "outputs": [
    {
     "name": "stdout",
     "output_type": "stream",
     "text": [
      "C0A880 2.0\n",
      "C0F9A0 -100.0\n",
      "C0G640 -100.0\n",
      "C0R190 -100.0\n",
      "C0X260 -100.0\n"
     ]
    }
   ],
   "source": [
    "# library\n",
    "import csv\n",
    "\n",
    "# 開啟 CSV 檔案\n",
    "with open('105031148.csv', newline='') as csvFile:\n",
    "\n",
    "    # 3.轉成一個 dictionary, 讀取 CSV 檔內容，將每一列轉成字典\n",
    "    rows = csv.DictReader(csvFile)\n",
    "    \n",
    "    \n",
    "\n",
    "    max=0.0\n",
    "    min=100.0\n",
    "    # 迴圈輸出 指定欄位\n",
    "    for row in rows:\n",
    "        # print(row['station_id'],row['WDSD'])\n",
    "        if row['station_id'] == 'C0A880':\n",
    "            if float(row['WDSD']) > max:\n",
    "                max = float(row['WDSD'])\n",
    "            if float(row['WDSD']) < min:\n",
    "                min = float(row['WDSD'])\n",
    "    print('C0A880', max-min)\n",
    "    \n",
    "    max=0.0\n",
    "    min=100.0\n",
    "    # 迴圈輸出 指定欄位\n",
    "    for row in rows:\n",
    "        print(row['station_id'],row['WDSD'])\n",
    "        if row['station_id'] == 'C0F9A0':\n",
    "            if float(row['WDSD']) > max:\n",
    "                max = float(row['WDSD'])\n",
    "            if float(row['WDSD']) < min:\n",
    "                min = float(row['WDSD'])\n",
    "    print('C0F9A0', max-min)\n",
    "    \n",
    "    max=0.0\n",
    "    min=100.0\n",
    "    # 迴圈輸出 指定欄位\n",
    "    for row in rows:\n",
    "        #print(row['station_id'],row['WDSD'])\n",
    "        if row['station_id'] == 'C0G640':\n",
    "            if float(row['WDSD']) > max:\n",
    "                max = float(row['WDSD'])\n",
    "            if float(row['WDSD']) < min:\n",
    "                min = float(row['WDSD'])\n",
    "    print('C0G640', max-min)\n",
    "\n",
    "    max=0.0\n",
    "    min=100.0\n",
    "    # 迴圈輸出 指定欄位\n",
    "    for row in rows:\n",
    "        #print(row['station_id'],row['WDSD'])\n",
    "        if row['station_id'] == 'C0R190':\n",
    "            if float(row['WDSD']) > max:\n",
    "                max = float(row['WDSD'])\n",
    "            if float(row['WDSD']) < min:\n",
    "                min = float(row['WDSD'])\n",
    "    print('C0R190', max-min)\n",
    "    \n",
    "    max=0.0\n",
    "    min=100.0\n",
    "    # 迴圈輸出 指定欄位\n",
    "    for row in rows:\n",
    "        #print(row['station_id'],row['WDSD'])\n",
    "        if row['station_id'] == 'C0X260':\n",
    "            if float(row['WDSD']) > max:\n",
    "                max = float(row['WDSD'])\n",
    "            if float(row['WDSD']) < min:\n",
    "                min = float(row['WDSD'])\n",
    "    print('C0X260', max-min)"
   ]
  },
  {
   "cell_type": "code",
   "execution_count": null,
   "metadata": {},
   "outputs": [],
   "source": []
  },
  {
   "cell_type": "code",
   "execution_count": null,
   "metadata": {},
   "outputs": [],
   "source": []
  }
 ],
 "metadata": {
  "kernelspec": {
   "display_name": "Python 3",
   "language": "python",
   "name": "python3"
  },
  "language_info": {
   "codemirror_mode": {
    "name": "ipython",
    "version": 3
   },
   "file_extension": ".py",
   "mimetype": "text/x-python",
   "name": "python",
   "nbconvert_exporter": "python",
   "pygments_lexer": "ipython3",
   "version": "3.7.4"
  }
 },
 "nbformat": 4,
 "nbformat_minor": 2
}
